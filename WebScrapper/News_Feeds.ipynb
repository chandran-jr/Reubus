{
  "nbformat": 4,
  "nbformat_minor": 0,
  "metadata": {
    "colab": {
      "name": "News_Feeds.ipynb",
      "provenance": [],
      "collapsed_sections": [],
      "mount_file_id": "1JpmUw1MoiBkATUqJ5fSI1GmgqQrszWr0",
      "authorship_tag": "ABX9TyOc6XpDia/GAZBseLmGF0sE",
      "include_colab_link": true
    },
    "kernelspec": {
      "name": "python3",
      "display_name": "Python 3"
    }
  },
  "cells": [
    {
      "cell_type": "markdown",
      "metadata": {
        "id": "view-in-github",
        "colab_type": "text"
      },
      "source": [
        "<a href=\"https://colab.research.google.com/github/HacKP-CyberDome/reubus-app/blob/leos/WebScrapper/News_Feeds.ipynb\" target=\"_parent\"><img src=\"https://colab.research.google.com/assets/colab-badge.svg\" alt=\"Open In Colab\"/></a>"
      ]
    },
    {
      "cell_type": "code",
      "metadata": {
        "id": "thmQR1b4fVnL",
        "colab_type": "code",
        "colab": {
          "base_uri": "https://localhost:8080/",
          "height": 155
        },
        "outputId": "f4f3f6dc-d282-4198-d72c-8d2b85863354"
      },
      "source": [
        "!pip install -q newspaper3k"
      ],
      "execution_count": 1,
      "outputs": [
        {
          "output_type": "stream",
          "text": [
            "\u001b[K     |████████████████████████████████| 215kB 2.7MB/s \n",
            "\u001b[K     |████████████████████████████████| 7.4MB 8.7MB/s \n",
            "\u001b[K     |████████████████████████████████| 194kB 38.6MB/s \n",
            "\u001b[K     |████████████████████████████████| 51kB 5.8MB/s \n",
            "\u001b[?25h  Building wheel for jieba3k (setup.py) ... \u001b[?25l\u001b[?25hdone\n",
            "  Building wheel for tinysegmenter (setup.py) ... \u001b[?25l\u001b[?25hdone\n",
            "  Building wheel for feedparser (setup.py) ... \u001b[?25l\u001b[?25hdone\n",
            "  Building wheel for feedfinder2 (setup.py) ... \u001b[?25l\u001b[?25hdone\n"
          ],
          "name": "stdout"
        }
      ]
    },
    {
      "cell_type": "code",
      "metadata": {
        "id": "rqtBH3bBrVlC",
        "colab_type": "code",
        "colab": {
          "base_uri": "https://localhost:8080/",
          "height": 69
        },
        "outputId": "38fe070b-0197-436d-d227-a8110fcf7888"
      },
      "source": [
        "import nltk\n",
        "import requests\n",
        "import pandas as pd\n",
        "from bs4 import BeautifulSoup\n",
        "from newspaper import Article\n",
        "from datetime import datetime\n",
        "nltk.download('punkt')"
      ],
      "execution_count": 2,
      "outputs": [
        {
          "output_type": "stream",
          "text": [
            "[nltk_data] Downloading package punkt to /root/nltk_data...\n",
            "[nltk_data]   Unzipping tokenizers/punkt.zip.\n"
          ],
          "name": "stdout"
        },
        {
          "output_type": "execute_result",
          "data": {
            "text/plain": [
              "True"
            ]
          },
          "metadata": {
            "tags": []
          },
          "execution_count": 2
        }
      ]
    },
    {
      "cell_type": "code",
      "metadata": {
        "id": "dyQc8fQXDyHl",
        "colab_type": "code",
        "colab": {
          "base_uri": "https://localhost:8080/",
          "height": 198
        },
        "outputId": "9284f0d8-1622-41f0-9b0c-51b2fa45314c"
      },
      "source": [
        "# sheet_url = 'https://docs.google.com/spreadsheets/d/1WzdRJV92WcRMkipxadrPxv5g4j8S2gHy8lYQ7wQe8bo/edit#gid=113004645'\n",
        "# csv_export_url = sheet_url.replace('/edit#gid=', '/export?format=csv&gid=')\n",
        "news = pd.read_csv('/content/drive/My Drive/Datasets/NewsFeeds/news_feed.csv')\n",
        "recent = news.iloc[0,0]\n",
        "news.head()"
      ],
      "execution_count": 3,
      "outputs": [
        {
          "output_type": "execute_result",
          "data": {
            "text/html": [
              "<div>\n",
              "<style scoped>\n",
              "    .dataframe tbody tr th:only-of-type {\n",
              "        vertical-align: middle;\n",
              "    }\n",
              "\n",
              "    .dataframe tbody tr th {\n",
              "        vertical-align: top;\n",
              "    }\n",
              "\n",
              "    .dataframe thead th {\n",
              "        text-align: right;\n",
              "    }\n",
              "</style>\n",
              "<table border=\"1\" class=\"dataframe\">\n",
              "  <thead>\n",
              "    <tr style=\"text-align: right;\">\n",
              "      <th></th>\n",
              "      <th>Date</th>\n",
              "      <th>Place</th>\n",
              "      <th>Context</th>\n",
              "      <th>Keywords</th>\n",
              "    </tr>\n",
              "  </thead>\n",
              "  <tbody>\n",
              "    <tr>\n",
              "      <th>0</th>\n",
              "      <td>2020-08-02 15:03:00</td>\n",
              "      <td>Kochi</td>\n",
              "      <td>Kochi: In connection with the diplomatic bagga...</td>\n",
              "      <td>['sivasankar', 'likely', 'swapnas', 'gold', 'i...</td>\n",
              "    </tr>\n",
              "    <tr>\n",
              "      <th>1</th>\n",
              "      <td>2020-08-02 10:01:00</td>\n",
              "      <td>Kollam</td>\n",
              "      <td>Kollam: In connection with the Uthra murder ca...</td>\n",
              "      <td>['murder', 'probe', 'dummy', 'team', 'court', ...</td>\n",
              "    </tr>\n",
              "    <tr>\n",
              "      <th>2</th>\n",
              "      <td>2020-08-02 09:34:00</td>\n",
              "      <td>Thiruvananthapuram</td>\n",
              "      <td>Thiruvananthapuram: Senior accountant of Vanch...</td>\n",
              "      <td>['treasury', 'rs', 'cr', 'investigation', 'cro...</td>\n",
              "    </tr>\n",
              "    <tr>\n",
              "      <th>3</th>\n",
              "      <td>2020-08-01 18:59:00</td>\n",
              "      <td>Kochi</td>\n",
              "      <td>Kochi: In the controversial diplomatic baggage...</td>\n",
              "      <td>['sivasankar', 'releasing', 'gold', 'baggage',...</td>\n",
              "    </tr>\n",
              "    <tr>\n",
              "      <th>4</th>\n",
              "      <td>2020-08-01 14:55:00</td>\n",
              "      <td>Kozhikode</td>\n",
              "      <td>Kozhikode: Various Malayali organizations in t...</td>\n",
              "      <td>['join', 'nurse', 'philip', 'america', 'malaya...</td>\n",
              "    </tr>\n",
              "  </tbody>\n",
              "</table>\n",
              "</div>"
            ],
            "text/plain": [
              "                  Date  ...                                           Keywords\n",
              "0  2020-08-02 15:03:00  ...  ['sivasankar', 'likely', 'swapnas', 'gold', 'i...\n",
              "1  2020-08-02 10:01:00  ...  ['murder', 'probe', 'dummy', 'team', 'court', ...\n",
              "2  2020-08-02 09:34:00  ...  ['treasury', 'rs', 'cr', 'investigation', 'cro...\n",
              "3  2020-08-01 18:59:00  ...  ['sivasankar', 'releasing', 'gold', 'baggage',...\n",
              "4  2020-08-01 14:55:00  ...  ['join', 'nurse', 'philip', 'america', 'malaya...\n",
              "\n",
              "[5 rows x 4 columns]"
            ]
          },
          "metadata": {
            "tags": []
          },
          "execution_count": 3
        }
      ]
    },
    {
      "cell_type": "code",
      "metadata": {
        "id": "JuuFPQ9MHOqb",
        "colab_type": "code",
        "colab": {
          "base_uri": "https://localhost:8080/",
          "height": 34
        },
        "outputId": "afdb2661-a91d-438f-c0d5-110e4a47c363"
      },
      "source": [
        "recent = datetime.strptime(recent,'%Y-%m-%d %H:%M:%S')\n",
        "recent"
      ],
      "execution_count": 4,
      "outputs": [
        {
          "output_type": "execute_result",
          "data": {
            "text/plain": [
              "datetime.datetime(2020, 8, 2, 15, 3)"
            ]
          },
          "metadata": {
            "tags": []
          },
          "execution_count": 4
        }
      ]
    },
    {
      "cell_type": "code",
      "metadata": {
        "id": "GSkGU-PYwS_P",
        "colab_type": "code",
        "colab": {}
      },
      "source": [
        "links = []\n",
        "url = 'https://english.mathrubhumi.com/news/crime-beat'\n",
        "page = requests.get(url).text\n",
        "soup = BeautifulSoup(page)\n",
        "headline = soup.find(\"div\",{\"class\":\"row listPg-md7-rw\"})\n",
        "for i in headline.find_all('a'):\n",
        "  if i.get('href'):\n",
        "    links.append(i.get('href'))"
      ],
      "execution_count": 5,
      "outputs": []
    },
    {
      "cell_type": "code",
      "metadata": {
        "id": "UyCa9kwTzCX2",
        "colab_type": "code",
        "colab": {}
      },
      "source": [
        "data = {}\n",
        "count = 0\n",
        "for i in links:\n",
        "  urls = 'https://english.mathrubhumi.com/'+i\n",
        "  page = requests.get(urls).text\n",
        "  soup = BeautifulSoup(page)\n",
        "  headline = soup.find(\"div\",{\"class\":\"common_text_en date_outer\"})\n",
        "  if headline:\n",
        "    date = headline.get_text().strip()\n",
        "    date_time = datetime.strptime(date[:-4],'%b %d, %Y, %I:%M %p')\n",
        "    parag = soup.find(\"div\",{\"class\":\"articleBody common_text\"})\n",
        "    para = parag.find_all('p')\n",
        "    place = para[0].get_text().split(':')[0]\n",
        "    if date_time>recent:\n",
        "      article = Article(urls, 'en')\n",
        "      article.download()\n",
        "      article.parse()\n",
        "      article.nlp()\n",
        "      summary = article.summary\n",
        "      data[count] = [date_time,place,summary,article.keywords]\n",
        "      count += 1"
      ],
      "execution_count": 6,
      "outputs": []
    },
    {
      "cell_type": "code",
      "metadata": {
        "id": "bJ-XTFtfYgjO",
        "colab_type": "code",
        "colab": {}
      },
      "source": [
        "links = []\n",
        "url = 'https://www.onmanorama.com/districts/'\n",
        "districts = ['alappuzha','ernakulam','idukki','kannur','kasaragod','kollam',\n",
        "             'kottayam','kozhikode','malappuram','palakkad','pathanamthitta',\n",
        "             'thiruvananthapuram','thrissur','wayanad']\n",
        "for d in districts:\n",
        "  urls = url+d+'.html'\n",
        "  page = requests.get(urls).text\n",
        "  soup = BeautifulSoup(page)\n",
        "  headline = soup.find(\"div\",{\"class\":\"articlelisting section\"})\n",
        "  for i in headline.find_all('a'):\n",
        "    site = i.get('href')\n",
        "    if site and site not in links:\n",
        "      date = site.replace(url+d+'/',\"\")\n",
        "      date = date[:10]\n",
        "      date = datetime.strptime(date,'%Y/%m/%d')\n",
        "      if date > recent:\n",
        "        links.append(site)\n",
        "for i in links:\n",
        "  urls = i\n",
        "  page = requests.get(urls).text\n",
        "  soup = BeautifulSoup(page)\n",
        "  headline = soup.find(\"time\",{\"class\":\"story-author-date\"})\n",
        "  date_time_str = headline.get_text()\n",
        "  date_time = datetime.strptime(date_time_str[:-4],'%B %d, %Y %I:%M %p')\n",
        "  parag = soup.find(\"div\",{\"class\":\"article rte-article\"})\n",
        "  para = parag.find_all('p')\n",
        "  place = para[0].get_text().split(':')[0]\n",
        "  article = Article(urls)\n",
        "  article.download()\n",
        "  article.parse()\n",
        "  article.nlp()\n",
        "  summary = article.summary\n",
        "  data[count] = [date_time,place,summary,article.keywords]\n",
        "  count += 1"
      ],
      "execution_count": 7,
      "outputs": []
    },
    {
      "cell_type": "code",
      "metadata": {
        "id": "cCCVmyU8Nc2I",
        "colab_type": "code",
        "colab": {
          "base_uri": "https://localhost:8080/",
          "height": 365
        },
        "outputId": "96a28263-ee9b-4271-b4d2-1d6345b599a9"
      },
      "source": [
        "data"
      ],
      "execution_count": 8,
      "outputs": [
        {
          "output_type": "execute_result",
          "data": {
            "text/plain": [
              "{0: [datetime.datetime(2020, 8, 2, 18, 35),\n",
              "  'Kochi',\n",
              "  'Kochi: The National Investigation Agency, on Sunday, arrested two more persons in the gold smuggling case.\\nThe NIA team arrested Muhammadali Ibrahim and Muhammadali from Muvattupuzha.\\nTheir arrest has confirmed the terrorist links in the smuggling case.\\nThe NIA team evaluates the arrest of hand-chopping case accused in gold smuggling case, as a crucial turning pointing in the case.\\nThis is considered as a crucial finding in the gold smuggling case.',\n",
              "  ['terror',\n",
              "   'evidence',\n",
              "   'various',\n",
              "   'arrested',\n",
              "   'muhammadali',\n",
              "   'uncovers',\n",
              "   'smuggling',\n",
              "   'duo',\n",
              "   'team',\n",
              "   'case',\n",
              "   'ibrahim',\n",
              "   'prove',\n",
              "   'nia',\n",
              "   'persons',\n",
              "   'gold',\n",
              "   'links']]}"
            ]
          },
          "metadata": {
            "tags": []
          },
          "execution_count": 8
        }
      ]
    },
    {
      "cell_type": "code",
      "metadata": {
        "id": "4Lw7vxM32c-_",
        "colab_type": "code",
        "colab": {}
      },
      "source": [
        "df = pd.DataFrame.from_dict(data, orient='index',\n",
        "                       columns=['Date', 'Place', 'Context', 'Keywords'])"
      ],
      "execution_count": 9,
      "outputs": []
    },
    {
      "cell_type": "code",
      "metadata": {
        "id": "A5IDus-f4K_R",
        "colab_type": "code",
        "colab": {}
      },
      "source": [
        "df = df.append(news)"
      ],
      "execution_count": 10,
      "outputs": []
    },
    {
      "cell_type": "code",
      "metadata": {
        "id": "3sm9S8ACT-QQ",
        "colab_type": "code",
        "colab": {}
      },
      "source": [
        "for row in df.values:\n",
        "  row[0] = pd.to_datetime(row[0])"
      ],
      "execution_count": 11,
      "outputs": []
    },
    {
      "cell_type": "code",
      "metadata": {
        "id": "vUc4O_7IUd3u",
        "colab_type": "code",
        "colab": {}
      },
      "source": [
        "df.sort_values(by='Date',inplace=True,ascending=False)"
      ],
      "execution_count": 12,
      "outputs": []
    },
    {
      "cell_type": "code",
      "metadata": {
        "id": "xY4oWzQ5WJ0S",
        "colab_type": "code",
        "colab": {}
      },
      "source": [
        "df.to_csv('/content/drive/My Drive/Datasets/NewsFeeds/news_feed.csv',header=True,index=False,date_format='%Y-%m-%d %H:%M:%S')"
      ],
      "execution_count": 13,
      "outputs": []
    },
    {
      "cell_type": "code",
      "metadata": {
        "id": "puk8QM3kh3oy",
        "colab_type": "code",
        "colab": {
          "base_uri": "https://localhost:8080/",
          "height": 649
        },
        "outputId": "0be69a3e-97f6-4d67-bcf8-3fc970e852b0"
      },
      "source": [
        "df.head(20)"
      ],
      "execution_count": 14,
      "outputs": [
        {
          "output_type": "execute_result",
          "data": {
            "text/html": [
              "<div>\n",
              "<style scoped>\n",
              "    .dataframe tbody tr th:only-of-type {\n",
              "        vertical-align: middle;\n",
              "    }\n",
              "\n",
              "    .dataframe tbody tr th {\n",
              "        vertical-align: top;\n",
              "    }\n",
              "\n",
              "    .dataframe thead th {\n",
              "        text-align: right;\n",
              "    }\n",
              "</style>\n",
              "<table border=\"1\" class=\"dataframe\">\n",
              "  <thead>\n",
              "    <tr style=\"text-align: right;\">\n",
              "      <th></th>\n",
              "      <th>Date</th>\n",
              "      <th>Place</th>\n",
              "      <th>Context</th>\n",
              "      <th>Keywords</th>\n",
              "    </tr>\n",
              "  </thead>\n",
              "  <tbody>\n",
              "    <tr>\n",
              "      <th>0</th>\n",
              "      <td>2020-08-02 18:35:00</td>\n",
              "      <td>Kochi</td>\n",
              "      <td>Kochi: The National Investigation Agency, on S...</td>\n",
              "      <td>[terror, evidence, various, arrested, muhammad...</td>\n",
              "    </tr>\n",
              "    <tr>\n",
              "      <th>0</th>\n",
              "      <td>2020-08-02 15:03:00</td>\n",
              "      <td>Kochi</td>\n",
              "      <td>Kochi: In connection with the diplomatic bagga...</td>\n",
              "      <td>['sivasankar', 'likely', 'swapnas', 'gold', 'i...</td>\n",
              "    </tr>\n",
              "    <tr>\n",
              "      <th>1</th>\n",
              "      <td>2020-08-02 10:01:00</td>\n",
              "      <td>Kollam</td>\n",
              "      <td>Kollam: In connection with the Uthra murder ca...</td>\n",
              "      <td>['murder', 'probe', 'dummy', 'team', 'court', ...</td>\n",
              "    </tr>\n",
              "    <tr>\n",
              "      <th>2</th>\n",
              "      <td>2020-08-02 09:34:00</td>\n",
              "      <td>Thiruvananthapuram</td>\n",
              "      <td>Thiruvananthapuram: Senior accountant of Vanch...</td>\n",
              "      <td>['treasury', 'rs', 'cr', 'investigation', 'cro...</td>\n",
              "    </tr>\n",
              "    <tr>\n",
              "      <th>3</th>\n",
              "      <td>2020-08-01 18:59:00</td>\n",
              "      <td>Kochi</td>\n",
              "      <td>Kochi: In the controversial diplomatic baggage...</td>\n",
              "      <td>['sivasankar', 'releasing', 'gold', 'baggage',...</td>\n",
              "    </tr>\n",
              "    <tr>\n",
              "      <th>4</th>\n",
              "      <td>2020-08-01 14:55:00</td>\n",
              "      <td>Kozhikode</td>\n",
              "      <td>Kozhikode: Various Malayali organizations in t...</td>\n",
              "      <td>['join', 'nurse', 'philip', 'america', 'malaya...</td>\n",
              "    </tr>\n",
              "    <tr>\n",
              "      <th>5</th>\n",
              "      <td>2020-08-01 14:54:00</td>\n",
              "      <td>Thiruvananthapuram</td>\n",
              "      <td>Sub-treasury officer also lodged a complaint d...</td>\n",
              "      <td>['swindled', 'subtreasury', 'vanchiyoor', 'fra...</td>\n",
              "    </tr>\n",
              "    <tr>\n",
              "      <th>6</th>\n",
              "      <td>2020-08-01 12:03:00</td>\n",
              "      <td>Tirur</td>\n",
              "      <td>Tirur: Police arrested a thief, who is an expe...</td>\n",
              "      <td>['vegetable', 'selling', 'kalpakanchery', 'ras...</td>\n",
              "    </tr>\n",
              "    <tr>\n",
              "      <th>7</th>\n",
              "      <td>2020-08-01 09:14:00</td>\n",
              "      <td>Wayanad</td>\n",
              "      <td>The hilly Wayanad district has a total of 310 ...</td>\n",
              "      <td>['positive', 'total', 'covid19', 'panchayat', ...</td>\n",
              "    </tr>\n",
              "    <tr>\n",
              "      <th>8</th>\n",
              "      <td>2020-08-01 09:05:00</td>\n",
              "      <td>Monippally</td>\n",
              "      <td>Monippally: Parents of the Keralite nurse, who...</td>\n",
              "      <td>['nurse', 'murdered', 'mathew', 'file', 'merin...</td>\n",
              "    </tr>\n",
              "    <tr>\n",
              "      <th>9</th>\n",
              "      <td>2020-08-01 06:19:00</td>\n",
              "      <td>Thiruvananthapuram</td>\n",
              "      <td>Thiruvananthapuram: In a new initiative, jail ...</td>\n",
              "      <td>['jail', 'jails', 'outlets', 'thiruvananthapur...</td>\n",
              "    </tr>\n",
              "    <tr>\n",
              "      <th>10</th>\n",
              "      <td>2020-08-01 06:18:00</td>\n",
              "      <td>Thiruvalla</td>\n",
              "      <td>Omana had gone, as she does every day, to the ...</td>\n",
              "      <td>['thereomana', 'downstream', 'thiruvalla', 'ta...</td>\n",
              "    </tr>\n",
              "    <tr>\n",
              "      <th>11</th>\n",
              "      <td>2020-07-31 11:37:00</td>\n",
              "      <td>Alappuzha</td>\n",
              "      <td>Alappuzha: A court here on Thursday acquitted ...</td>\n",
              "      <td>['pillai', 'acquitted', 'court', 'secretary', ...</td>\n",
              "    </tr>\n",
              "    <tr>\n",
              "      <th>12</th>\n",
              "      <td>2020-07-30 15:33:00</td>\n",
              "      <td>Alappuzha</td>\n",
              "      <td>Alappuzha: Police failed to nab the accused in...</td>\n",
              "      <td>['brawl', 'say', 'road', 'quarrel', 'perumpall...</td>\n",
              "    </tr>\n",
              "    <tr>\n",
              "      <th>13</th>\n",
              "      <td>2020-07-30 14:58:00</td>\n",
              "      <td>Angamaly (Ernakulam)</td>\n",
              "      <td>Angamaly (Ernakulam): The police arrested a co...</td>\n",
              "      <td>['panchayat', 'arrested', 'angamaly', 'restric...</td>\n",
              "    </tr>\n",
              "    <tr>\n",
              "      <th>14</th>\n",
              "      <td>2020-07-30 14:10:00</td>\n",
              "      <td>Pathanamthitta/Seethathodu</td>\n",
              "      <td>Pathanamthitta/Seethathodu: The family of the ...</td>\n",
              "      <td>['owner', 'kudappana', 'mathayi', 'stated', 'i...</td>\n",
              "    </tr>\n",
              "    <tr>\n",
              "      <th>15</th>\n",
              "      <td>2020-07-30 11:27:00</td>\n",
              "      <td>Thiruvananthapuram</td>\n",
              "      <td>Thiruvananthapuram: The Technopark, which star...</td>\n",
              "      <td>['vijayaraghavan', 'kerala', 'employs', '30th'...</td>\n",
              "    </tr>\n",
              "    <tr>\n",
              "      <th>16</th>\n",
              "      <td>2020-07-30 06:13:00</td>\n",
              "      <td>Kothamangalam</td>\n",
              "      <td>Kothamangalam: The police have filed a case ag...</td>\n",
              "      <td>['holding', 'violation', 'kurian', 'roy', 'roa...</td>\n",
              "    </tr>\n",
              "    <tr>\n",
              "      <th>17</th>\n",
              "      <td>2020-07-30 06:12:00</td>\n",
              "      <td>Kottayam</td>\n",
              "      <td>Kottayam: People living near the Nattakom-Thir...</td>\n",
              "      <td>['near', 'kottayam', 'fields', 'dumped', 'bypa...</td>\n",
              "    </tr>\n",
              "    <tr>\n",
              "      <th>18</th>\n",
              "      <td>2020-07-29 15:27:00</td>\n",
              "      <td>Bengaluru</td>\n",
              "      <td>Various investigation agencies started probe i...</td>\n",
              "      <td>['told', 'probe', 'swapna', 'investigation', '...</td>\n",
              "    </tr>\n",
              "  </tbody>\n",
              "</table>\n",
              "</div>"
            ],
            "text/plain": [
              "                   Date  ...                                           Keywords\n",
              "0   2020-08-02 18:35:00  ...  [terror, evidence, various, arrested, muhammad...\n",
              "0   2020-08-02 15:03:00  ...  ['sivasankar', 'likely', 'swapnas', 'gold', 'i...\n",
              "1   2020-08-02 10:01:00  ...  ['murder', 'probe', 'dummy', 'team', 'court', ...\n",
              "2   2020-08-02 09:34:00  ...  ['treasury', 'rs', 'cr', 'investigation', 'cro...\n",
              "3   2020-08-01 18:59:00  ...  ['sivasankar', 'releasing', 'gold', 'baggage',...\n",
              "4   2020-08-01 14:55:00  ...  ['join', 'nurse', 'philip', 'america', 'malaya...\n",
              "5   2020-08-01 14:54:00  ...  ['swindled', 'subtreasury', 'vanchiyoor', 'fra...\n",
              "6   2020-08-01 12:03:00  ...  ['vegetable', 'selling', 'kalpakanchery', 'ras...\n",
              "7   2020-08-01 09:14:00  ...  ['positive', 'total', 'covid19', 'panchayat', ...\n",
              "8   2020-08-01 09:05:00  ...  ['nurse', 'murdered', 'mathew', 'file', 'merin...\n",
              "9   2020-08-01 06:19:00  ...  ['jail', 'jails', 'outlets', 'thiruvananthapur...\n",
              "10  2020-08-01 06:18:00  ...  ['thereomana', 'downstream', 'thiruvalla', 'ta...\n",
              "11  2020-07-31 11:37:00  ...  ['pillai', 'acquitted', 'court', 'secretary', ...\n",
              "12  2020-07-30 15:33:00  ...  ['brawl', 'say', 'road', 'quarrel', 'perumpall...\n",
              "13  2020-07-30 14:58:00  ...  ['panchayat', 'arrested', 'angamaly', 'restric...\n",
              "14  2020-07-30 14:10:00  ...  ['owner', 'kudappana', 'mathayi', 'stated', 'i...\n",
              "15  2020-07-30 11:27:00  ...  ['vijayaraghavan', 'kerala', 'employs', '30th'...\n",
              "16  2020-07-30 06:13:00  ...  ['holding', 'violation', 'kurian', 'roy', 'roa...\n",
              "17  2020-07-30 06:12:00  ...  ['near', 'kottayam', 'fields', 'dumped', 'bypa...\n",
              "18  2020-07-29 15:27:00  ...  ['told', 'probe', 'swapna', 'investigation', '...\n",
              "\n",
              "[20 rows x 4 columns]"
            ]
          },
          "metadata": {
            "tags": []
          },
          "execution_count": 14
        }
      ]
    },
    {
      "cell_type": "code",
      "metadata": {
        "id": "OlWx37-x14Kw",
        "colab_type": "code",
        "colab": {}
      },
      "source": [
        ""
      ],
      "execution_count": null,
      "outputs": []
    },
    {
      "cell_type": "code",
      "metadata": {
        "id": "kLQwAFZZqLl6",
        "colab_type": "code",
        "colab": {}
      },
      "source": [
        "class HTMLTableParser:\n",
        "\n",
        "  def parse_url(self, url):\n",
        "      response = requests.get(url)\n",
        "      soup = BeautifulSoup(response.text, 'lxml')\n",
        "      return [('dfsds',self.parse_html_table(table))\\\n",
        "              for table in soup.find_all('table')]  \n",
        "\n",
        "  def parse_html_table(self, table):\n",
        "      n_columns = 0\n",
        "      n_rows=0\n",
        "      column_names = []\n",
        "\n",
        "      # Find number of rows and columns\n",
        "      # we also find the column titles if we can\n",
        "      for row in table.find_all('tr'):\n",
        "          \n",
        "          # Determine the number of rows in the table\n",
        "          td_tags = row.find_all('td')\n",
        "          if len(td_tags) > 0:\n",
        "              n_rows+=1\n",
        "              if n_columns == 0:\n",
        "                  # Set the number of columns for our table\n",
        "                  n_columns = len(td_tags)\n",
        "                  \n",
        "          # Handle column names if we find them\n",
        "          th_tags = row.find_all('th') \n",
        "          if len(th_tags) > 0 and len(column_names) == 0:\n",
        "              for th in th_tags:\n",
        "                  column_names.append(th.get_text())\n",
        "\n",
        "      # Safeguard on Column Titles\n",
        "      if len(column_names) > 0 and len(column_names) != n_columns:\n",
        "          raise Exception(\"Column titles do not match the number of columns\")\n",
        "\n",
        "      columns = column_names if len(column_names) > 0 else range(0,n_columns)\n",
        "      df = pd.DataFrame(columns = columns,\n",
        "                        index= range(0,n_rows))\n",
        "      row_marker = 0\n",
        "      for row in table.find_all('tr'):\n",
        "          column_marker = 0\n",
        "          columns = row.find_all('td')\n",
        "          for column in columns:\n",
        "              df.iat[row_marker,column_marker] = column.get_text()\n",
        "              column_marker += 1\n",
        "          if len(columns) > 0:\n",
        "              row_marker += 1\n",
        "              \n",
        "      # Convert to float if possible\n",
        "      for col in df:\n",
        "          try:\n",
        "              df[col] = df[col].astype(float)\n",
        "          except ValueError:\n",
        "              pass\n",
        "      \n",
        "      return df"
      ],
      "execution_count": null,
      "outputs": []
    },
    {
      "cell_type": "code",
      "metadata": {
        "id": "8t0l7zUwtfJS",
        "colab_type": "code",
        "colab": {}
      },
      "source": [
        "place_URLs = [\n",
        "              'A/','B/','C/','D/','E/','F/','G/','H/','I/','J/','K/a/b/','K/a/c/','K/a/d/','K/a/i/','K/a/k/','K/a/l/','K/a/m/','K/a/n/','K/a/p/',\n",
        "              'K/a/r/','K/a/s/','K/a/t/','K/a/v/','K/a/y/','K/a/z/','K/e/','K/i/','K/o/','K/u/','L/','M/a/','M/e/','M/i/','M/o/','M/u/','N/','O/',\n",
        "              'P/a/','P/e/','P/i/','P/o/','P/u/','Q/','R/','S/','T/','U/','V/','W/','Y/']"
      ],
      "execution_count": null,
      "outputs": []
    },
    {
      "cell_type": "code",
      "metadata": {
        "id": "7RvHOnIr0AxM",
        "colab_type": "code",
        "colab": {}
      },
      "source": [
        "column_names = table.columns.to_list()\n",
        "loc = pd.DataFrame(columns = column_names)"
      ],
      "execution_count": null,
      "outputs": []
    },
    {
      "cell_type": "code",
      "metadata": {
        "id": "dHM2j355rEy8",
        "colab_type": "code",
        "colab": {}
      },
      "source": [
        "urls = 'http://www.fallingrain.com/world/IN/13/a/'\n",
        "for i in place_URLs:\n",
        "  url = urls + i\n",
        "  hp = HTMLTableParser()\n",
        "  table = hp.parse_url(url)[0][1] # Grabbing the table from the tuple\n",
        "  loc = loc.append(table)"
      ],
      "execution_count": null,
      "outputs": []
    },
    {
      "cell_type": "code",
      "metadata": {
        "id": "NORPgh-RtAA3",
        "colab_type": "code",
        "colab": {}
      },
      "source": [
        "loc.to_csv('/content/drive/My Drive/Datasets/NewsFeeds/locations.csv',header=True,index=False)"
      ],
      "execution_count": null,
      "outputs": []
    },
    {
      "cell_type": "code",
      "metadata": {
        "id": "b_FpN_yynmZF",
        "colab_type": "code",
        "colab": {}
      },
      "source": [
        ""
      ],
      "execution_count": null,
      "outputs": []
    },
    {
      "cell_type": "code",
      "metadata": {
        "id": "-tupDOyffXN4",
        "colab_type": "code",
        "colab": {}
      },
      "source": [
        "# article = Article('https://www.onmanorama.com/districts/pathanamthitta/2020/06/10/tiger-dies-pathanamthitta-forest-kill-rubber-contractor.html')\n",
        "# article.download()\n",
        "# article.parse()\n",
        "# print(article.authors)\n",
        "# print(article.publish_date)\n",
        "# print(article.text)\n",
        "# article.nlp()\n",
        "# print(article.keywords)\n",
        "# print(article.summary)\n",
        "# print(article.title)"
      ],
      "execution_count": null,
      "outputs": []
    },
    {
      "cell_type": "code",
      "metadata": {
        "id": "hPANgcOxjneG",
        "colab_type": "code",
        "colab": {}
      },
      "source": [
        "# url = 'https://www.onmanorama.com/districts/alappuzha/2020/06/16/covid-fight-kerala-nurse-alappuzha.html'\n",
        "# page = requests.get(url).text\n",
        "# soup = BeautifulSoup(page)\n",
        "# headline = soup.find(\"time\",{\"class\":\"story-author-date\"})\n",
        "# date_time = datetime.strptime(headline.get_text()[:-4],'%B %d, %Y %I:%M %p')\n",
        "# date_time"
      ],
      "execution_count": null,
      "outputs": []
    },
    {
      "cell_type": "code",
      "metadata": {
        "id": "N5mbTwytFg80",
        "colab_type": "code",
        "colab": {}
      },
      "source": [
        "# res = pd.to_datetime(news.iloc[0,0])\n",
        "# nws = pd.read_csv('/content/drive/My Drive/Datasets/NewsFeeds/news_feed.csv')\n",
        "# nws.head()\n",
        "# for row in nws.values:\n",
        "#   row[0] = pd.to_datetime(row[0])\n",
        "# type(nws.iloc[0,0])\n",
        "# nws.to_csv('/content/drive/My Drive/Datasets/NewsFeeds/news_feed.csv',header=True,index=False,date_format='%Y-%m-%d %H:%M:%S')\n",
        "# ne = pd.read_csv('/content/drive/My Drive/Datasets/NewsFeeds/news_feed.csv',parse_dates=['Date'])\n",
        "# ne.head()"
      ],
      "execution_count": null,
      "outputs": []
    },
    {
      "cell_type": "code",
      "metadata": {
        "id": "TRX7cL0p3jrI",
        "colab_type": "code",
        "colab": {}
      },
      "source": [
        "# links = [\n",
        "#          'https://english.mathrubhumi.com/news/crime-beat/pocso-case-accused-jumps-into-sea-during-evidence-collection-1.4922728',\n",
        "#          'https://english.mathrubhumi.com/news/crime-beat/gold-smuggling-nia-team-takes-sarith-for-evidence-collection-in-tvm-1.4920332',\n",
        "#          'https://english.mathrubhumi.com/news/crime-beat/dispute-over-funds-for-treatment-police-interrogate-3-including-sajan-kechery-1.4920310',\n",
        "#          'https://english.mathrubhumi.com/news/crime-beat/neeleswaram-girl-sexually-abused-for-2-yrs-stepmother-also-involved-1.4918395',\n",
        "#          'https://english.mathrubhumi.com/news/crime-beat/mystery-looms-over-appointment-of-gunman-jayaghosh-1.4918242',\n",
        "#          'https://english.mathrubhumi.com/news/crime-beat/gold-smuggling-case-malayalam-film-industry-a-beneficiary-reveals-nia-1.4918146',\n",
        "#          'https://english.mathrubhumi.com/news/crime-beat/dispute-over-fund-for-treatment-source-of-transferred-money-to-be-probed-1.4918123',\n",
        "#          'https://english.mathrubhumi.com/news/crime-beat/swapna-suresh-allegedly-destroyed-evidence-before-shifting-to-new-house-1.4916142',\n",
        "#          'https://english.mathrubhumi.com/news/crime-beat/nia-takes-swapna-sandeep-for-evidence-collection-in-tvm-1.4913844',\n",
        "#          'https://english.mathrubhumi.com/news/crime-beat/plotted-gold-smuggling-with-film-stars-contacted-dharmajan-shamna-kasim-says-accused-1.4913807',\n",
        "#          'https://english.mathrubhumi.com/news/crime-beat/gold-smuggling-customs-to-interrogate-m-sivasankar-again--1.4913742',\n",
        "#          'https://english.mathrubhumi.com/news/crime-beat/auto-driver-arrested-for-raping-65-yr-old-woman-in-mukkom-1.4911459',\n",
        "#          'https://english.mathrubhumi.com/news/crime-beat/swapna-visited-sarith-s-residence-before-moving-to-bengaluru-says-lawyer-1.4911330',\n",
        "#          'https://english.mathrubhumi.com/news/crime-beat/tobacco-products-found-hidden-inside-cake-at-quarantine-centre-1.4911268',\n",
        "#          'https://english.mathrubhumi.com/news/crime-beat/gold-smuggling-case-faisal-fareed-s-passport-impounded-uae-issues-travel-ban-1.4909325',\n",
        "#          'https://english.mathrubhumi.com/news/crime-beat/man-on-bail-who-raped-murdered-woman-in-palakkad-gets-life-sentence-1.4909134',\n",
        "#          'https://english.mathrubhumi.com/news/crime-beat/online-fraudsters-focus-on-sellers-of-second-hand-items-ask-for-mpin-to-rob-money-1.4908912',\n",
        "#          'https://english.mathrubhumi.com/news/crime-beat/gold-smuggling-case-sivasankar-directed-to-book-flat-reveals-whatsapp-message-1.4907009',\n",
        "#          'https://english.mathrubhumi.com/news/crime-beat/more-passengers-caught-smuggling-gold-at-karipur-tvm-airports-1.4906932',\n",
        "#          'https://english.mathrubhumi.com/news/crime-beat/swapna-phoned-kt-jaleel-call-list-proves-links-between-sivasankar-and-sarith-1.4904698',\n",
        "#          'https://english.mathrubhumi.com/news/crime-beat/associate-director-booked-for-raping-woman-on-promise-of-marriage-1.4904587',\n",
        "#          'https://english.mathrubhumi.com/news/crime-beat/-i-did-it-suraj-confesses-to-murdering-uthra-in-front-of-media-1.4904428',\n",
        "#          'https://english.mathrubhumi.com/news/crime-beat/student-under-quarantine-after-return-from-russia-commits-suicide-in-kottayam-1.4904327',\n",
        "#          'https://english.mathrubhumi.com/news/crime-beat/-sultan-on-sharechat-arrested-for-abducting-raping-19-year-old-social-media-friend-1.4902277',\n",
        "#          'https://english.mathrubhumi.com/news/crime-beat/night-party-in-resort-ukraine-dancer-says-she-was-misled-to-perform-belly-dance-1.4902211',\n",
        "#          'https://english.mathrubhumi.com/news/crime-beat/rameez-acts-as-gold-smugglers-agent-nia-to-probe-gun-trafficking-case-involving-him-1.4902148',\n",
        "#          'https://english.mathrubhumi.com/news/crime-beat/two-youth-stabbed-in-front-of-father-after-verbal-spat-one-dies-1.4902139',\n",
        "#          'https://english.mathrubhumi.com/news/crime-beat/huge-gold-haul-again-at-thiruvananthapuram-kannur-airports-1.4902008',\n",
        "#          'https://english.mathrubhumi.com/news/crime-beat/gold-smuggling-case-alleged-middleman-in-custody-1.4899985',\n",
        "#          'https://english.mathrubhumi.com/news/crime-beat/nia-vehicle-sustains-puncture-swapna-suresh-shifted-to-another-vehicle-1.4899862',\n",
        "#          'https://english.mathrubhumi.com/news/crime-beat/gold-smuggling-swapna-suresh-sandeep-nair-brought-to-kerala-through-walayar-1.4899853',\n",
        "#          'https://english.mathrubhumi.com/news/crime-beat/gold-smuggling-arrest-of-rameez-leads-to-more-clues-swapna-fled-via-perinthalmanna--1.4899830',\n",
        "#          'https://english.mathrubhumi.com/news/crime-beat/nia-arrests-swapna-sandeep-amid-plans-to-flee-to-nagaland-1.4899790',\n",
        "#          'https://english.mathrubhumi.com/news/crime-beat/gold-smuggling-case-nia-team-set-out-to-kochi-with-swapna-sandeep-1.4899759',\n",
        "#          'https://english.mathrubhumi.com/news/crime-beat/gold-smuggling-case-swapna-suresh-sandeep-nair-arrested-from-bengaluru-1.4898205',\n",
        "#          'https://english.mathrubhumi.com/news/crime-beat/gold-smuggling-case-nia-tightens-noose-search-for-faisal-fareed-in-dubai-1.4897665',\n",
        "#          'https://english.mathrubhumi.com/news/crime-beat/murder-over-ganja-sale-in-kozhikode-accused-arrested-after-two-and-a-half-years-1.4897596',\n",
        "#          'https://english.mathrubhumi.com/news/crime-beat/thazhathangadi-robbery-and-murder-man-succumbs-on-40th-day-after-wife-s-death-1.4897455',\n",
        "#          'https://english.mathrubhumi.com/news/crime-beat/swapna-suresh-had-15-bodyguards-reveals-youth-attacked-by-her-1.4897399',\n",
        "#          'https://english.mathrubhumi.com/news/crime-beat/dysp-radhakrishna-pillai-to-lead-nia-probe-into-gold-smuggling-1.4897391',\n",
        "#          'https://english.mathrubhumi.com/news/crime-beat/gold-smuggling-case-conspiracy-hatched-at-flat-near-secretariat-1.4897371',\n",
        "#          'https://english.mathrubhumi.com/news/crime-beat/gold-smuggling-nia-to-probe-is-links-1.4897252',\n",
        "#          'https://english.mathrubhumi.com/news/crime-beat/gold-smuggling-nia-to-invoke-uapa-against-accused-1.4894785',\n",
        "#          'https://english.mathrubhumi.com/news/crime-beat/major-irregularities-in-rs-5-cr-loan-granted-by-adimali-cooperative-bank-come-to-light-1.4894754',\n",
        "#          'https://english.mathrubhumi.com/news/crime-beat/copy-of-swapna-s-email-seeking-re-export-of-gold-comes-out-1.4892703',\n",
        "#          'https://english.mathrubhumi.com/news/crime-beat/gold-smuggling-break-the-chain-and-other-modus-operandi-1.4892674',\n",
        "#          'https://english.mathrubhumi.com/news/crime-beat/gold-smuggling-did-sandeep-swapna-suresh-flee-together--1.4892611',\n",
        "#          'https://english.mathrubhumi.com/news/crime-beat/didn-t-know-swapna-was-a-gold-smuggler-says-sandeep-s-wife-soumya-1.4892597',\n",
        "#          'https://english.mathrubhumi.com/news/crime-beat/paravur-ksrtc-driver-found-dead-in-depot-1.4892485',\n",
        "#          'https://english.mathrubhumi.com/news/crime-beat/man-stabbed-to-death-in-front-of-family-in-mundakayam-1.4892479',\n",
        "#          'https://english.mathrubhumi.com/news/crime-beat/shamna-blackmail-case-gold-smuggling-was-just-an-offer-accused-had-no-direct-links-1.4890009',\n",
        "#          'https://english.mathrubhumi.com/news/crime-beat/customs-declines-police-help-to-find-swapna-suresh-seized-gold-kept-in-locker-1.4889981',\n",
        "#          'https://english.mathrubhumi.com/news/crime-beat/kozhikode-man-loses-rs-14-400-after-recharging-mobile-via-app-1.4889927',\n",
        "#          'https://english.mathrubhumi.com/news/crime-beat/newlywed-couple-found-dead-at-rented-house-in-alappuzha-1.4889884',\n",
        "#          'https://english.mathrubhumi.com/news/crime-beat/nun-rape-case-hc-rejects-franco-mulakkal-s-discharge-plea-1.4887722',\n",
        "#          'https://english.mathrubhumi.com/news/crime-beat/19-year-old-held-for-bid-to-molest-woman-at-quarantine-centre-in-pathanamthitta-1.4887505',\n",
        "#          'https://english.mathrubhumi.com/news/crime-beat/customs-raid-swapna-suresh-s-flat-again-to-check-visitors-list-1.4887495',\n",
        "#          'https://english.mathrubhumi.com/news/crime-beat/night-party-belly-dance-6-arrested-released-on-bail-resort-license-to-be-cancelled-1.4887457',\n",
        "#          'https://english.mathrubhumi.com/news/crime-beat/gold-smuggling-case-sarith-s-phone-trapped-swapna-suresh-cyber-evidences-more-crucial-1.4887382',\n",
        "#          'https://english.mathrubhumi.com/news/crime-beat/uae-consulate-former-female-staff-is-brain-behind-diplomatic-baggage-gold-smuggling-case-1.4884893',\n",
        "#          'https://english.mathrubhumi.com/news/crime-beat/woman-lover-arrested-for-abandoning-their-newborn-in-front-of-church-in-adoor-1.4884849',\n",
        "#          'https://english.mathrubhumi.com/news/crime-beat/gold-seized-from-diplomatic-baggage-in-kerala-for-first-time-37-kg-gold-seized-in-delhi-in-2013-1.4884774',\n",
        "#          'https://english.mathrubhumi.com/news/crime-beat/50-year-old-murdered-in-thrissur-after-scuffle-over-rs-50-3-arrested-1.4884756',\n",
        "#          'https://english.mathrubhumi.com/news/crime-beat/20-year-old-held-for-raping-4-year-old-girl-in-mundakayam-1.4882913',\n",
        "#          'https://english.mathrubhumi.com/news/crime-beat/counterfeit-currency-of-rs-10-lakh-face-value-seized-in-malappuram-3-held-1.4882766',\n",
        "#          'https://english.mathrubhumi.com/news/crime-beat/rape-case-against-charitable-trust-proprietor-s-husband-in-kottayam-1.4882751',\n",
        "#          'https://english.mathrubhumi.com/news/crime-beat/after-night-party-row-mystery-looms-over-thannikkod-group-s-quarry-in-chathurangappara-1.4882749',\n",
        "#          'https://english.mathrubhumi.com/news/crime-beat/man-hacked-to-death-at-rubber-plantation-in-kannur-1.4882735',\n",
        "#          'https://english.mathrubhumi.com/news/crime-beat/uthra-murder-case-snake-catcher-suresh-submits-application-to-turn-approver-1.4880530',\n",
        "#          'https://english.mathrubhumi.com/news/crime-beat/women-involved-in-shamna-kasim-blackmail-case-identified-bailed-accused-arrested-again-1.4880519',\n",
        "#          'https://english.mathrubhumi.com/news/crime-beat/man-throws-his-6-month-old-baby-after-being-asked-to-buy-baby-food-1.4880485',\n",
        "#          'https://english.mathrubhumi.com/news/crime-beat/false-rape-case-4-held-for-exorting-rs-1-37-lakh-in-adimali-1.4880483',\n",
        "#          'https://english.mathrubhumi.com/news/crime-beat/300-attend-night-party-belly-dance-violating-covid-19-protocol-in-idukki-businessman-booked-1.4880455',\n",
        "#          'https://english.mathrubhumi.com/news/crime-beat/3-get-bail-in-shamna-kasim-blackmail-case-producer-who-impersonated-quizzed-1.4880417',\n",
        "#          'https://english.mathrubhumi.com/news/crime-beat/more-women-involved-in-shamna-kasim-blackmail-case-reveals-ig-vijay-sakhare-1.4878267',\n",
        "#          'https://english.mathrubhumi.com/news/crime-beat/shamna-kasim-blackmail-case-more-arrests-likely-today-producer-to-be-grilled-1.4878057',\n",
        "#          'https://english.mathrubhumi.com/news/crime-beat/uthra-murder-case-suraj-s-mother-sister-questioned-again-1.4875821',\n",
        "#          'https://english.mathrubhumi.com/news/crime-beat/man-drapes-sari-pours-kerosene-and-attempts-to-self-immolate-escapes-when-locals-intervene-1.4875817',\n",
        "#          'https://english.mathrubhumi.com/news/crime-beat/3-women-prisoners-chased-down-by-police-after-escape-bid-in-ernakulam-1.4875802',\n",
        "#          'https://english.mathrubhumi.com/news/crime-beat/liquor-smuggled-into-covid-19-quarantine-centre-in-pathanamthitta-1.4875778',\n",
        "#          'https://english.mathrubhumi.com/news/crime-beat/rafeeq-was-always-on-phone-call-with-shamna-demanded-divorce-from-me-wife-1.4875621',\n",
        "#          'https://english.mathrubhumi.com/news/crime-beat/shamna-kasim-blackmail-case-police-searching-for-woman-who-posed-as-mother-of-groom--1.4873575',\n",
        "#          'https://english.mathrubhumi.com/news/crime-beat/abhimanyu-murder-accused-committed-financial-fraud-while-in-hiding-1.4873538',\n",
        "#          'https://english.mathrubhumi.com/news/crime-beat/man-escapes-after-jumping-into-well-finds-wife-hanging-inside-house-1.4873391'\n",
        "# ]"
      ],
      "execution_count": null,
      "outputs": []
    },
    {
      "cell_type": "code",
      "metadata": {
        "id": "c8G5pR1yO8YA",
        "colab_type": "code",
        "colab": {}
      },
      "source": [
        "news = pd.read_csv('/content/drive/My Drive/Datasets/NewsFeeds/news_feed.csv')\n",
        "recent = news.iloc[0,0]\n",
        "news.head()"
      ],
      "execution_count": null,
      "outputs": []
    },
    {
      "cell_type": "code",
      "metadata": {
        "id": "8tMorQ8Kmhy4",
        "colab_type": "code",
        "colab": {}
      },
      "source": [
        "news.head(30)"
      ],
      "execution_count": null,
      "outputs": []
    },
    {
      "cell_type": "code",
      "metadata": {
        "id": "TkOOQRK3sEZc",
        "colab_type": "code",
        "colab": {}
      },
      "source": [
        "for row in news.values:\n",
        "  print(row[3])"
      ],
      "execution_count": null,
      "outputs": []
    },
    {
      "cell_type": "code",
      "metadata": {
        "id": "B0xa3VJMsRDT",
        "colab_type": "code",
        "colab": {}
      },
      "source": [
        ""
      ],
      "execution_count": null,
      "outputs": []
    }
  ]
}